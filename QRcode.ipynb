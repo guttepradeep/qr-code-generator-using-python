{
 "cells": [
  {
   "cell_type": "code",
   "execution_count": 3,
   "id": "20059075",
   "metadata": {
    "scrolled": true
   },
   "outputs": [
    {
     "name": "stdout",
     "output_type": "stream",
     "text": [
      "Requirement already satisfied: qrcode in c:\\users\\hp\\anaconda3\\lib\\site-packages (7.4.2)\n",
      "Requirement already satisfied: typing-extensions in c:\\users\\hp\\anaconda3\\lib\\site-packages (from qrcode) (4.7.1)\n",
      "Requirement already satisfied: pypng in c:\\users\\hp\\anaconda3\\lib\\site-packages (from qrcode) (0.20220715.0)\n",
      "Requirement already satisfied: colorama in c:\\users\\hp\\anaconda3\\lib\\site-packages (from qrcode) (0.4.6)\n",
      "Note: you may need to restart the kernel to use updated packages.\n"
     ]
    }
   ],
   "source": [
    "pip install qrcode"
   ]
  },
  {
   "cell_type": "markdown",
   "id": "45c81c78",
   "metadata": {},
   "source": [
    "# QR code generater :"
   ]
  },
  {
   "cell_type": "code",
   "execution_count": 6,
   "id": "923eef69",
   "metadata": {},
   "outputs": [],
   "source": [
    "import qrcode as qr\n",
    "img=qr.make(\"https://www.youtube.com/\")\n",
    "img.save(\"New_Youtube.png\")"
   ]
  },
  {
   "cell_type": "markdown",
   "id": "578dc146",
   "metadata": {},
   "source": [
    "# File handling "
   ]
  },
  {
   "cell_type": "code",
   "execution_count": 19,
   "id": "9d2d2b98",
   "metadata": {},
   "outputs": [
    {
     "name": "stdout",
     "output_type": "stream",
     "text": [
      "File writen using w mode \n"
     ]
    }
   ],
   "source": [
    "f=open(\"file1.txt\",\"r\")\n",
    "for line in f:\n",
    "    print(line)\n"
   ]
  },
  {
   "cell_type": "code",
   "execution_count": 16,
   "id": "71c3e59b",
   "metadata": {
    "scrolled": true
   },
   "outputs": [
    {
     "name": "stdout",
     "output_type": "stream",
     "text": [
      "[]\n"
     ]
    }
   ],
   "source": [
    "lines=f.readlines()\n",
    "print(lines)\n"
   ]
  },
  {
   "cell_type": "code",
   "execution_count": 18,
   "id": "67a256f3",
   "metadata": {},
   "outputs": [
    {
     "data": {
      "text/plain": [
       "25"
      ]
     },
     "execution_count": 18,
     "metadata": {},
     "output_type": "execute_result"
    }
   ],
   "source": [
    "f=open(\"file1.txt\",\"w\")\n",
    "f.write(\"File writen using w mode \")"
   ]
  },
  {
   "cell_type": "code",
   "execution_count": 22,
   "id": "8df2bf44",
   "metadata": {},
   "outputs": [
    {
     "data": {
      "text/plain": [
       "11"
      ]
     },
     "execution_count": 22,
     "metadata": {},
     "output_type": "execute_result"
    }
   ],
   "source": [
    "f=open(\"New1.txt\",\"w\")\n",
    "f.write(\"WRITEN FILE\")\n",
    "#override"
   ]
  },
  {
   "cell_type": "code",
   "execution_count": null,
   "id": "50e44f1b",
   "metadata": {},
   "outputs": [],
   "source": []
  },
  {
   "cell_type": "code",
   "execution_count": null,
   "id": "ffcdcb9b",
   "metadata": {},
   "outputs": [],
   "source": []
  }
 ],
 "metadata": {
  "kernelspec": {
   "display_name": "Python 3 (ipykernel)",
   "language": "python",
   "name": "python3"
  },
  "language_info": {
   "codemirror_mode": {
    "name": "ipython",
    "version": 3
   },
   "file_extension": ".py",
   "mimetype": "text/x-python",
   "name": "python",
   "nbconvert_exporter": "python",
   "pygments_lexer": "ipython3",
   "version": "3.11.4"
  }
 },
 "nbformat": 4,
 "nbformat_minor": 5
}
