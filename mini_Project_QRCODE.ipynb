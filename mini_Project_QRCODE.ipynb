{
 "cells": [
  {
   "cell_type": "code",
   "execution_count": null,
   "id": "477e85fc",
   "metadata": {},
   "outputs": [],
   "source": [
    "import tkinter as tk\n",
    "from tkinter import messagebox\n",
    "import qrcode\n",
    "from PIL import Image, ImageTk\n",
    "\n",
    "def generate_qr():\n",
    "    data = entry.get()\n",
    "    if not data:\n",
    "        messagebox.showwarning(\"Input Error\", \"Please enter some data to generate QR Code\")\n",
    "        return\n",
    "\n",
    "    qr = qrcode.QRCode(\n",
    "        version=1,\n",
    "        error_correction=qrcode.constants.ERROR_CORRECT_L,\n",
    "        box_size=10,\n",
    "        border=4,\n",
    "    )\n",
    "    qr.add_data(data)\n",
    "    qr.make(fit=True)\n",
    "    img = qr.make_image(fill='black', back_color='white')\n",
    "    img.save(\"qrcode.png\")\n",
    "    \n",
    "    img_tk = ImageTk.PhotoImage(img)\n",
    "    qr_label.config(image=img_tk)\n",
    "    qr_label.image = img_tk\n",
    "\n",
    "root = tk.Tk()\n",
    "root.title(\"QR Code Generator\")\n",
    "\n",
    "root.geometry(\"400x500\")\n",
    "root.configure(bg=\"skyblue\")\n",
    "\n",
    "title_label = tk.Label(root, text=\"QR Code Generator\", font=(\"Helvetica\", 18, \"bold\"), bg=\"White\")\n",
    "title_label.pack(pady=20)\n",
    "\n",
    "entry_label = tk.Label(root, text=\"Enter data to generate QR code:\", font=(\"Helvetica\", 12), bg=\"#f0f0f0\")\n",
    "entry_label.pack(pady=10)\n",
    "\n",
    "entry = tk.Entry(root, width=40, font=(\"Helvetica\", 12))\n",
    "entry.pack(pady=10)\n",
    "\n",
    "generate_button = tk.Button(root, text=\"Generate QR Code\", command=generate_qr, font=(\"Helvetica\", 12), bg=\"#4caf50\", fg=\"white\", activebackground=\"#45a049\")\n",
    "generate_button.pack(pady=20)\n",
    "\n",
    "qr_label = tk.Label(root, bg=\"#f0f0f0\")\n",
    "qr_label.pack(pady=10)\n",
    "\n",
    "# Start the application\n",
    "root.mainloop()\n"
   ]
  },
  {
   "cell_type": "code",
   "execution_count": null,
   "id": "9b7ce938",
   "metadata": {},
   "outputs": [],
   "source": []
  }
 ],
 "metadata": {
  "kernelspec": {
   "display_name": "Python 3 (ipykernel)",
   "language": "python",
   "name": "python3"
  },
  "language_info": {
   "codemirror_mode": {
    "name": "ipython",
    "version": 3
   },
   "file_extension": ".py",
   "mimetype": "text/x-python",
   "name": "python",
   "nbconvert_exporter": "python",
   "pygments_lexer": "ipython3",
   "version": "3.11.4"
  }
 },
 "nbformat": 4,
 "nbformat_minor": 5
}
